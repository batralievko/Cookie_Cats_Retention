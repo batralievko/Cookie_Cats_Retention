{
 "cells": [
  {
   "cell_type": "markdown",
   "metadata": {},
   "source": [
    "## 1. Импорт бибилиотек и загрузка данных"
   ]
  },
  {
   "cell_type": "code",
   "execution_count": 41,
   "metadata": {},
   "outputs": [
    {
     "data": {
      "text/html": [
       "<div>\n",
       "<style scoped>\n",
       "    .dataframe tbody tr th:only-of-type {\n",
       "        vertical-align: middle;\n",
       "    }\n",
       "\n",
       "    .dataframe tbody tr th {\n",
       "        vertical-align: top;\n",
       "    }\n",
       "\n",
       "    .dataframe thead th {\n",
       "        text-align: right;\n",
       "    }\n",
       "</style>\n",
       "<table border=\"1\" class=\"dataframe\">\n",
       "  <thead>\n",
       "    <tr style=\"text-align: right;\">\n",
       "      <th></th>\n",
       "      <th>userid</th>\n",
       "      <th>sum_gamerounds</th>\n",
       "      <th>retention_1</th>\n",
       "      <th>retention_7</th>\n",
       "    </tr>\n",
       "    <tr>\n",
       "      <th>version</th>\n",
       "      <th></th>\n",
       "      <th></th>\n",
       "      <th></th>\n",
       "      <th></th>\n",
       "    </tr>\n",
       "  </thead>\n",
       "  <tbody>\n",
       "    <tr>\n",
       "      <th>gate_30</th>\n",
       "      <td>44700</td>\n",
       "      <td>44700</td>\n",
       "      <td>44700</td>\n",
       "      <td>44700</td>\n",
       "    </tr>\n",
       "    <tr>\n",
       "      <th>gate_40</th>\n",
       "      <td>45489</td>\n",
       "      <td>45489</td>\n",
       "      <td>45489</td>\n",
       "      <td>45489</td>\n",
       "    </tr>\n",
       "  </tbody>\n",
       "</table>\n",
       "</div>"
      ],
      "text/plain": [
       "         userid  sum_gamerounds  retention_1  retention_7\n",
       "version                                                  \n",
       "gate_30   44700           44700        44700        44700\n",
       "gate_40   45489           45489        45489        45489"
      ]
     },
     "execution_count": 41,
     "metadata": {},
     "output_type": "execute_result"
    }
   ],
   "source": [
    "import pandas as pd\n",
    "\n",
    "df = pd.read_csv(\"cookie_cats.csv\")\n",
    "df[:5]\n",
    "df.groupby(\"version\").count()"
   ]
  },
  {
   "cell_type": "markdown",
   "metadata": {},
   "source": [
    "## 2. Данные для АБ теста\n",
    "<p>Данные принадлежат 90 189 игрокам, которые установили игру во время выполнения АБ теста. Переменные:</p>\n",
    "<ul>\n",
    "<li><code>userid</code> - уникальный номер-идентификатор каждого игрока</li>\n",
    "<li><code>version</code> - был ли игрок помещен в контрольную групу\n",
    "(<code>gate_30</code> - gate at level 30)\n",
    "(<code>gate_40</code> - gate at level 40).</li>\n",
    "<li><code>sum_gamerounds</code> - количество раундов игры, сыгранных игроком в течение первых 14 дней после установки</li>\n",
    "<li><code>retention_1</code> - игрок вернулся и начал играть <strong>через 1 день</strong> после установки?</li>\n",
    "<li><code>retention_7</code> - игрок вернулся и начал играть <strong>через 7 дней</strong> после установки?</li>\n",
    "</ul>Когда игрок устанавливал игру, он был случайным образом определен  либо в группу <code>gate_30</code>, либо в <code>gate_40</code>. В качестве проверки адекватности такого распределения необходимо проверить, есть ли примерно одинаковое количество игроков в каждой АБ группе. </p>"
   ]
  },
  {
   "cell_type": "code",
   "execution_count": 3,
   "metadata": {},
   "outputs": [
    {
     "data": {
      "text/html": [
       "<div>\n",
       "<style scoped>\n",
       "    .dataframe tbody tr th:only-of-type {\n",
       "        vertical-align: middle;\n",
       "    }\n",
       "\n",
       "    .dataframe tbody tr th {\n",
       "        vertical-align: top;\n",
       "    }\n",
       "\n",
       "    .dataframe thead th {\n",
       "        text-align: right;\n",
       "    }\n",
       "</style>\n",
       "<table border=\"1\" class=\"dataframe\">\n",
       "  <thead>\n",
       "    <tr style=\"text-align: right;\">\n",
       "      <th></th>\n",
       "      <th>userid</th>\n",
       "      <th>sum_gamerounds</th>\n",
       "      <th>retention_1</th>\n",
       "      <th>retention_7</th>\n",
       "    </tr>\n",
       "    <tr>\n",
       "      <th>version</th>\n",
       "      <th></th>\n",
       "      <th></th>\n",
       "      <th></th>\n",
       "      <th></th>\n",
       "    </tr>\n",
       "  </thead>\n",
       "  <tbody>\n",
       "    <tr>\n",
       "      <th>gate_30</th>\n",
       "      <td>44700</td>\n",
       "      <td>44700</td>\n",
       "      <td>44700</td>\n",
       "      <td>44700</td>\n",
       "    </tr>\n",
       "    <tr>\n",
       "      <th>gate_40</th>\n",
       "      <td>45489</td>\n",
       "      <td>45489</td>\n",
       "      <td>45489</td>\n",
       "      <td>45489</td>\n",
       "    </tr>\n",
       "  </tbody>\n",
       "</table>\n",
       "</div>"
      ],
      "text/plain": [
       "         userid  sum_gamerounds  retention_1  retention_7\n",
       "version                                                  \n",
       "gate_30   44700           44700        44700        44700\n",
       "gate_40   45489           45489        45489        45489"
      ]
     },
     "execution_count": 3,
     "metadata": {},
     "output_type": "execute_result"
    }
   ],
   "source": [
    "# Рассчет количество игкроков в каждой группе\n",
    "\n",
    "df.groupby(\"version\").count()"
   ]
  },
  {
   "cell_type": "markdown",
   "metadata": {},
   "source": [
    "## 3. Распределение раундов игры\n",
    "<p><img src=\"https://s3.amazonaws.com/assets.datacamp.com/production/project_184/img/mr_waffles_smiling.png\" style=\"width:200px; float:left\"> </p>\n",
    "<p>Похоже, что в каждой группе примерно одинаковое количество игроков.</p>\n",
    "<p>Основное внимание в этом анализе будет уделено тому, как распределение игроков (присвоение gate_30 или gate_40) влияет на удержание игроков.</p>\n",
    "<p>Ради  интереса давайте построим график распределения количества раундов, которые игроки играли в течение своей первой недели игры.</p>"
   ]
  },
  {
   "cell_type": "code",
   "execution_count": 6,
   "metadata": {},
   "outputs": [
    {
     "name": "stdout",
     "output_type": "stream",
     "text": [
      "Минимальное значение раундов: 0\n",
      "максимальное значение раундов: 49854\n"
     ]
    }
   ],
   "source": [
    "print('Минимальное значение раундов:', min(df[\"sum_gamerounds\"]))\n",
    "print('максимальное значение раундов:', max(df[\"sum_gamerounds\"]))"
   ]
  },
  {
   "cell_type": "code",
   "execution_count": 12,
   "metadata": {},
   "outputs": [
    {
     "data": {
      "text/plain": [
       "Text(0, 0.5, 'Количество игроков')"
      ]
     },
     "execution_count": 12,
     "metadata": {},
     "output_type": "execute_result"
    },
    {
     "data": {
      "image/png": "[encoded data removed]",
      "text/plain": [
       "<Figure size 432x288 with 1 Axes>"
      ]
     },
     "metadata": {
      "needs_background": "light"
     },
     "output_type": "display_data"
    }
   ],
   "source": [
    "%matplotlib inline\n",
    "# Рассчитываем кол-во игроков для каждого раунда игры\n",
    "plot_df = df.groupby(\"sum_gamerounds\").count().reset_index()\n",
    "\n",
    "# Строим распределение игроков, которые играли от 0 до 100 раундов\n",
    "ax = plot_df.head(100).plot(\"sum_gamerounds\", \"userid\", label = 'Игроки')\n",
    "ax.set_xlabel(\"Количество раундов\")\n",
    "ax.set_ylabel(\"Количество игроков\")"
   ]
  },
  {
   "cell_type": "markdown",
   "metadata": {},
   "source": [
    "## 4. Однодневное удержание (1-day retention)\n",
    "<p>В приведенном выше рисунке мы видим, что некоторые игроки устанавливают игру, но затем либо перестают играть вовсе (0 игровых раундов), либо играют пару игровых раундов в первую неделю, а остальные по-настоящему подсаживаются!</p>\n",
    "<p>Мы хотим, чтобы игрокам понравилась игра и они подсели на нее. Распространенной метрикой в индустрии видеоигр для определения того, насколько увлекательна игра является <em>1-дневное удержание</em>: Процент игроков, которые возвращаются в игру <em>через один день</em> после того, как они установили ее. Чем выше 1-дневное удержание, тем легче удержать игроков и построить большую базу игроков.</p>\n",
    "<p>Для давайте рассмотрим, что такое 1-дневное удержание в целом.</p>"
   ]
  },
  {
   "cell_type": "code",
   "execution_count": 31,
   "metadata": {},
   "outputs": [
    {
     "name": "stdout",
     "output_type": "stream",
     "text": [
      "Процент игроков, которые вернулись через день после установки 44.52%\n"
     ]
    }
   ],
   "source": [
    "# Процент игроков, которые вернулись через день после установки\n",
    "print('Процент игроков, которые вернулись через день после установки {:.2%}'.\\\n",
    "      format(sum(df[\"retention_1\"])/ len(df)))"
   ]
  },
  {
   "cell_type": "markdown",
   "metadata": {},
   "source": [
    "## 5. Однодневное удержание по АБ группам\n",
    "<p><img src=\"https://s3.amazonaws.com/assets.datacamp.com/production/project_184/img/belle_cookie.png\" style=\"width:200px; float:right\"> </p>\n",
    "<p>Таким образом, чуть меньше половины игроков возвращаются через день после установки игры. Теперь, когда у нас ориентир для сравнения, давайте посмотрим, как 1-дневное удержание отличается между двумя группами AБ.</p>"
   ]
  },
  {
   "cell_type": "code",
   "execution_count": 33,
   "metadata": {},
   "outputs": [
    {
     "data": {
      "text/plain": [
       "version\n",
       "gate_30    44.82\n",
       "gate_40    44.23\n",
       "Name: retention_1, dtype: float64"
      ]
     },
     "execution_count": 33,
     "metadata": {},
     "output_type": "execute_result"
    }
   ],
   "source": [
    "# Рассчет однодневного удержания для каждой группы\n",
    "round(df.groupby(\"version\").agg(\"mean\")[\"retention_1\"] * 100, 2)"
   ]
  },
  {
   "cell_type": "markdown",
   "metadata": {},
   "source": [
    "## 6. Можем ли мы доверять этой разнице?\n",
    "<p>По-видимому, наблюдалось незначительное снижение метрики для группы gate_40 (44,2%) по сравнению с группой gate_30 (44,8%). Это небольшое изменение, но даже небольшие изменения в удержании могут иметь большое влияние. Можем ли мы доверять выводу, что выход на уровне 40 будет хуже в будущем?</p>\n",
    "<p>Есть несколько способов, которыми мы можем получить уверенность в этих числах удержания. Здесь мы будем использовать bootstrapping: мы будем многократно повторять выборку нашего набора данных (с заменой) и вычислять 1-дневное удержание для этих выборок. Вариация в 1-дневном удержании даст нам представление о том, насколько неопределенны цифры удержания.</p>"
   ]
  },
  {
   "cell_type": "code",
   "execution_count": 34,
   "metadata": {},
   "outputs": [
    {
     "data": {
      "text/html": [
       "<div>\n",
       "<style scoped>\n",
       "    .dataframe tbody tr th:only-of-type {\n",
       "        vertical-align: middle;\n",
       "    }\n",
       "\n",
       "    .dataframe tbody tr th {\n",
       "        vertical-align: top;\n",
       "    }\n",
       "\n",
       "    .dataframe thead th {\n",
       "        text-align: right;\n",
       "    }\n",
       "</style>\n",
       "<table border=\"1\" class=\"dataframe\">\n",
       "  <thead>\n",
       "    <tr style=\"text-align: right;\">\n",
       "      <th></th>\n",
       "      <th>userid</th>\n",
       "      <th>version</th>\n",
       "      <th>sum_gamerounds</th>\n",
       "      <th>retention_1</th>\n",
       "      <th>retention_7</th>\n",
       "    </tr>\n",
       "  </thead>\n",
       "  <tbody>\n",
       "    <tr>\n",
       "      <th>0</th>\n",
       "      <td>116</td>\n",
       "      <td>gate_30</td>\n",
       "      <td>3</td>\n",
       "      <td>False</td>\n",
       "      <td>False</td>\n",
       "    </tr>\n",
       "    <tr>\n",
       "      <th>1</th>\n",
       "      <td>337</td>\n",
       "      <td>gate_30</td>\n",
       "      <td>38</td>\n",
       "      <td>True</td>\n",
       "      <td>False</td>\n",
       "    </tr>\n",
       "    <tr>\n",
       "      <th>2</th>\n",
       "      <td>377</td>\n",
       "      <td>gate_40</td>\n",
       "      <td>165</td>\n",
       "      <td>True</td>\n",
       "      <td>False</td>\n",
       "    </tr>\n",
       "  </tbody>\n",
       "</table>\n",
       "</div>"
      ],
      "text/plain": [
       "   userid  version  sum_gamerounds  retention_1  retention_7\n",
       "0     116  gate_30               3        False        False\n",
       "1     337  gate_30              38         True        False\n",
       "2     377  gate_40             165         True        False"
      ]
     },
     "execution_count": 34,
     "metadata": {},
     "output_type": "execute_result"
    }
   ],
   "source": [
    "df.sample(frac=1, replace=True)\n",
    "df[:3]"
   ]
  },
  {
   "cell_type": "code",
   "execution_count": 35,
   "metadata": {},
   "outputs": [
    {
     "data": {
      "text/plain": [
       "<matplotlib.axes._subplots.AxesSubplot at 0x7fbdbaf8f2d0>"
      ]
     },
     "execution_count": 35,
     "metadata": {},
     "output_type": "execute_result"
    },
    {
     "data": {
      "image/png": "[encoded data removed]",
      "text/plain": [
       "<Figure size 432x288 with 1 Axes>"
      ]
     },
     "metadata": {
      "needs_background": "light"
     },
     "output_type": "display_data"
    }
   ],
   "source": [
    "# Создание списка с bootstrapped mean для каждой группы\n",
    "\n",
    "iterations = 500\n",
    "boot_1d = []\n",
    "for i in range(iterations):\n",
    "    boot_mean = (\n",
    "        df.sample(frac=1, replace=True).groupby(\"version\").agg(\"mean\")[\"retention_1\"]\n",
    "    )\n",
    "    boot_1d.append(boot_mean)\n",
    "\n",
    "boot_1d = pd.DataFrame(boot_1d)\n",
    "\n",
    "# рисуем Kernel Density Estimate plot\n",
    "boot_1d.plot.kde()"
   ]
  },
  {
   "cell_type": "markdown",
   "metadata": {},
   "source": [
    "## 7. Увеличение масштаба разницы\n",
    "<p>Эти два распределения выше представляют собой бутстрэпную неопределенность относительно того, что может лежать в основе 1-дневного удержания для двух AB-групп. Просто наблюдая за этим сюжетом, мы можем видеть, что, кажется, есть некоторые доказательства различия, хотя и небольшие. Давайте увеличим разницу в 1-дневном удержании</p>\n",
    "<p>(<em>Обратите внимание, что в этой записной книжке мы ограничили число загрузочных репликаций до 500, чтобы ускорить вычисления. В \"производстве\" мы, скорее всего, увеличим это число (к примеру до 10 000.</em>)</p>"
   ]
  },
  {
   "cell_type": "code",
   "execution_count": 42,
   "metadata": {},
   "outputs": [
    {
     "data": {
      "text/plain": [
       "Text(0.5, 0, 'разница между АБ группами (%) - multiple bootstrapped samples')"
      ]
     },
     "execution_count": 42,
     "metadata": {},
     "output_type": "execute_result"
    },
    {
     "data": {
      "image/png": "[encoded data removed]",
      "text/plain": [
       "<Figure size 432x288 with 1 Axes>"
      ]
     },
     "metadata": {
      "needs_background": "light"
     },
     "output_type": "display_data"
    }
   ],
   "source": [
    "# Добавление столбца с процентной разницей метрики между двумя группами\n",
    "boot_1d[\"diff\"] = (boot_1d[\"gate_30\"] - boot_1d[\"gate_40\"]) * 100 / boot_1d[\"gate_40\"]\n",
    "\n",
    "# Рисуем для рассчитанной разницы распределение\n",
    "ax = boot_1d[\"diff\"].plot.kde()\n",
    "ax.set_xlabel(\"разница между АБ группами (%) - multiple bootstrapped samples\")"
   ]
  },
  {
   "cell_type": "markdown",
   "metadata": {},
   "source": [
    "## 8. Вероятность разницы\n",
    "<p><img src=\"https://s3.amazonaws.com/assets.datacamp.com/production/project_184/img/ziggy_smiling.png\" style=\"width:200px; float:left\"> </p>\n",
    "<p>Из этой диаграммы мы можем видеть, что наиболее вероятная разница в % составляет около 1% - 2%, и что большая часть распределения выше 0%, в пользу группы gate_30. Но какова вероятность того, что разница будет выше 0%? Давайте и это рассчитаем.</p>"
   ]
  },
  {
   "cell_type": "code",
   "execution_count": 38,
   "metadata": {},
   "outputs": [
    {
     "name": "stdout",
     "output_type": "stream",
     "text": [
      "96.6 %\n"
     ]
    }
   ],
   "source": [
    "# Вероятность того, что однодневное удержание у gate_30 больше\n",
    "prob = sum(boot_1d[\"diff\"] > 0) / len(boot_1d[\"diff\"])\n",
    "print(prob * 100, \"%\")"
   ]
  },
  {
   "cell_type": "markdown",
   "metadata": {},
   "source": [
    "## 9. 7-дневное удержание по группам\n",
    "<p>Анализ начальной загрузки говорит нам, что существует высокая вероятность того, что 1-дневное удержание будет лучше, когда ворота находятся на уровне 30.</p>\n",
    "<p>Однако, поскольку игроки играют в эту игру только один день, вполне вероятно, что большинство игроков еще не достигли 30-го уровня. То есть многие игроки так и не дойдут до ворот, даже если они будут на 30 уровне.</p>\n",
    "<p>Но после игры в течение недели больше игроков может дойти до 40-го уровня, и поэтому имеет смысл также посмотреть на 7-дневное удержание. То есть: какой процент людей, установивших игру, также появился через неделю, чтобы снова поиграть.</p>"
   ]
  },
  {
   "cell_type": "code",
   "execution_count": 39,
   "metadata": {},
   "outputs": [
    {
     "data": {
      "text/plain": [
       "version\n",
       "gate_30    19.02\n",
       "gate_40    18.20\n",
       "Name: retention_7, dtype: float64"
      ]
     },
     "execution_count": 39,
     "metadata": {},
     "output_type": "execute_result"
    }
   ],
   "source": [
    "round(df.groupby(\"version\").agg(\"mean\")[\"retention_7\"] * 100, 2)"
   ]
  },
  {
   "cell_type": "markdown",
   "metadata": {},
   "source": [
    "<p>Как и в случае с 1-дневной задержкой, мы видим, что 7-дневная задержка немного ниже (18,2%), когда ворота находятся на уровне 40, чем когда ворота находятся на уровне 30 (19,0%).</p>\n",
    "<p>Мы также видим, что общее 7-дневное удержание ниже, чем общее 1-дневное удержание; меньше людей играют в игру через неделю после установки, чем через день после установки.</p>\n",
    "<p>Но, как и прежде, давайте воспользуемся bootstrap-анализом, чтобы выяснить, насколько можно доверять различиям между АБ-группами.</p>"
   ]
  },
  {
   "cell_type": "code",
   "execution_count": 40,
   "metadata": {},
   "outputs": [
    {
     "name": "stdout",
     "output_type": "stream",
     "text": [
      "100.0 %\n"
     ]
    },
    {
     "data": {
      "image/png": "[encoded data removed]",
      "text/plain": [
       "<Figure size 432x288 with 1 Axes>"
      ]
     },
     "metadata": {
      "needs_background": "light"
     },
     "output_type": "display_data"
    }
   ],
   "source": [
    "# Создание списка с bootstrapped mean для каждой группы\n",
    "boot_7d = []\n",
    "for i in range(500):\n",
    "    boot_mean = (\n",
    "        df.sample(frac=1, replace=True).groupby(\"version\").agg(\"mean\")[\"retention_7\"]\n",
    "    )\n",
    "    boot_7d.append(boot_mean)\n",
    "\n",
    "boot_7d = pd.DataFrame(boot_7d)\n",
    "\n",
    "# Добавление столбца с процентной разницей метрики между двумя группами\n",
    "boot_7d[\"diff\"] = (boot_7d[\"gate_30\"] - boot_7d[\"gate_40\"]) * 100 / boot_7d[\"gate_40\"]\n",
    "\n",
    "# Рисуем для рассчитанной разницы распределение\n",
    "ax = boot_7d[\"diff\"].plot.kde()\n",
    "ax.set_xlabel(\"% difference in means\")\n",
    "\n",
    "# Вероятность того, что 7-дневное удержание у gate_30 больше\n",
    "prob = (boot_7d[\"diff\"] > 0).mean()\n",
    "print(prob * 100, \"%\")"
   ]
  },
  {
   "cell_type": "markdown",
   "metadata": {},
   "source": [
    "## 11.  Вывод\n",
    "<p>Результат бутстрапного анализа говорит нам о том, что 7-дневное удержание выше, когда ворота находятся на уровне 30, чем на уровне 40. Вывод таков: если мы хотим сохранить высокое удержание — как 1-дневное, так и 7-дневное — мы должны <strong>не</strong> перемещать ворота с уровня 30 на уровень 40. Есть, конечно, и другие показатели, которые мы могли бы посмотреть, например, количество сыгранных раундов игры или количество внутриигровых покупок, сделанных двумя АБ-группами. Но \"удержание\" это один из самых важных показателей. Если мы не сохраним нашу базу игроков, не имеет значения, сколько денег они тратят в игре.</p>\n",
    "<p><img src=\"https://s3.amazonaws.com/assets.datacamp.com/production/project_184/img/cookie_yellow.png\" style=\"width:100px; float:center\"> </p>\n",
    "<p>Итак, почему удержание выше, когда ворота расположены раньше? Можно было ожидать и обратного: чем позже возникнет препятствие, тем дольше люди будут играть. Но это не то, что говорят нам данные. Теория гедонической адаптации может дать этому одно объяснение. Если кратко, гедоническая адаптация - это тенденция людей получать все меньше и меньше удовольствия от веселой деятельности с течением времени, если эта деятельность осуществляется непрерывно. Заставляя игроков делать перерыв, когда они достигают ворот, их удовольствие от игры продлевается. Но когда ворота перемещаются на 40-й уровень, игроки с большей вероятностью выйдут из игры, потому что им просто стало скучно.</p>"
   ]
  },
  {
   "cell_type": "code",
   "execution_count": null,
   "metadata": {},
   "outputs": [],
   "source": []
  }
 ],
 "metadata": {
  "kernelspec": {
   "display_name": "Python 3",
   "language": "python",
   "name": "python3"
  },
  "language_info": {
   "codemirror_mode": {
    "name": "ipython",
    "version": 3
   },
   "file_extension": ".py",
   "mimetype": "text/x-python",
   "name": "python",
   "nbconvert_exporter": "python",
   "pygments_lexer": "ipython3",
   "version": "3.7.6"
  }
 },
 "nbformat": 4,
 "nbformat_minor": 4
}
